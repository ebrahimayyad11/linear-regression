{
 "cells": [
  {
   "cell_type": "code",
   "execution_count": 1,
   "id": "778d8971-6724-4895-9a22-3b94edbcab85",
   "metadata": {},
   "outputs": [],
   "source": [
    "import pandas as pd\n",
    "import matplotlib.pyplot as plt \n",
    "from sklearn.linear_model import LinearRegression\n",
    "from sklearn.model_selection import train_test_split"
   ]
  },
  {
   "cell_type": "code",
   "execution_count": 2,
   "id": "2fd872e1-65aa-4b66-ac72-6033a037f240",
   "metadata": {},
   "outputs": [],
   "source": [
    "df=pd.read_csv('./assets/train.csv').head(100)"
   ]
  },
  {
   "cell_type": "markdown",
   "id": "9f445054-48dc-44e1-a3b8-689e027948dc",
   "metadata": {},
   "source": [
    "# Show the first five rows of the data set."
   ]
  },
  {
   "cell_type": "code",
   "execution_count": 3,
   "id": "3bffd0f7-254e-4b57-991e-0d091c6f04bc",
   "metadata": {},
   "outputs": [
    {
     "data": {
      "text/html": [
       "<div>\n",
       "<style scoped>\n",
       "    .dataframe tbody tr th:only-of-type {\n",
       "        vertical-align: middle;\n",
       "    }\n",
       "\n",
       "    .dataframe tbody tr th {\n",
       "        vertical-align: top;\n",
       "    }\n",
       "\n",
       "    .dataframe thead th {\n",
       "        text-align: right;\n",
       "    }\n",
       "</style>\n",
       "<table border=\"1\" class=\"dataframe\">\n",
       "  <thead>\n",
       "    <tr style=\"text-align: right;\">\n",
       "      <th></th>\n",
       "      <th>x</th>\n",
       "      <th>y</th>\n",
       "    </tr>\n",
       "  </thead>\n",
       "  <tbody>\n",
       "    <tr>\n",
       "      <th>0</th>\n",
       "      <td>24.0</td>\n",
       "      <td>21.549452</td>\n",
       "    </tr>\n",
       "    <tr>\n",
       "      <th>1</th>\n",
       "      <td>50.0</td>\n",
       "      <td>47.464463</td>\n",
       "    </tr>\n",
       "    <tr>\n",
       "      <th>2</th>\n",
       "      <td>15.0</td>\n",
       "      <td>17.218656</td>\n",
       "    </tr>\n",
       "    <tr>\n",
       "      <th>3</th>\n",
       "      <td>38.0</td>\n",
       "      <td>36.586398</td>\n",
       "    </tr>\n",
       "    <tr>\n",
       "      <th>4</th>\n",
       "      <td>87.0</td>\n",
       "      <td>87.288984</td>\n",
       "    </tr>\n",
       "  </tbody>\n",
       "</table>\n",
       "</div>"
      ],
      "text/plain": [
       "      x          y\n",
       "0  24.0  21.549452\n",
       "1  50.0  47.464463\n",
       "2  15.0  17.218656\n",
       "3  38.0  36.586398\n",
       "4  87.0  87.288984"
      ]
     },
     "execution_count": 3,
     "metadata": {},
     "output_type": "execute_result"
    }
   ],
   "source": [
    "df.head()"
   ]
  },
  {
   "cell_type": "markdown",
   "id": "71c7c158-a99a-4992-be65-382406666455",
   "metadata": {},
   "source": [
    "# Show the description and the info of the data set."
   ]
  },
  {
   "cell_type": "code",
   "execution_count": 4,
   "id": "9a4d353f-7c34-4d6e-adbb-409549938c9d",
   "metadata": {},
   "outputs": [
    {
     "data": {
      "text/html": [
       "<div>\n",
       "<style scoped>\n",
       "    .dataframe tbody tr th:only-of-type {\n",
       "        vertical-align: middle;\n",
       "    }\n",
       "\n",
       "    .dataframe tbody tr th {\n",
       "        vertical-align: top;\n",
       "    }\n",
       "\n",
       "    .dataframe thead th {\n",
       "        text-align: right;\n",
       "    }\n",
       "</style>\n",
       "<table border=\"1\" class=\"dataframe\">\n",
       "  <thead>\n",
       "    <tr style=\"text-align: right;\">\n",
       "      <th></th>\n",
       "      <th>x</th>\n",
       "      <th>y</th>\n",
       "    </tr>\n",
       "  </thead>\n",
       "  <tbody>\n",
       "    <tr>\n",
       "      <th>count</th>\n",
       "      <td>100.000000</td>\n",
       "      <td>100.000000</td>\n",
       "    </tr>\n",
       "    <tr>\n",
       "      <th>mean</th>\n",
       "      <td>41.750000</td>\n",
       "      <td>41.766780</td>\n",
       "    </tr>\n",
       "    <tr>\n",
       "      <th>std</th>\n",
       "      <td>27.529369</td>\n",
       "      <td>27.431911</td>\n",
       "    </tr>\n",
       "    <tr>\n",
       "      <th>min</th>\n",
       "      <td>0.000000</td>\n",
       "      <td>-1.286311</td>\n",
       "    </tr>\n",
       "    <tr>\n",
       "      <th>25%</th>\n",
       "      <td>19.000000</td>\n",
       "      <td>21.857613</td>\n",
       "    </tr>\n",
       "    <tr>\n",
       "      <th>50%</th>\n",
       "      <td>39.000000</td>\n",
       "      <td>39.427040</td>\n",
       "    </tr>\n",
       "    <tr>\n",
       "      <th>75%</th>\n",
       "      <td>60.000000</td>\n",
       "      <td>61.794065</td>\n",
       "    </tr>\n",
       "    <tr>\n",
       "      <th>max</th>\n",
       "      <td>95.000000</td>\n",
       "      <td>94.684883</td>\n",
       "    </tr>\n",
       "  </tbody>\n",
       "</table>\n",
       "</div>"
      ],
      "text/plain": [
       "                x           y\n",
       "count  100.000000  100.000000\n",
       "mean    41.750000   41.766780\n",
       "std     27.529369   27.431911\n",
       "min      0.000000   -1.286311\n",
       "25%     19.000000   21.857613\n",
       "50%     39.000000   39.427040\n",
       "75%     60.000000   61.794065\n",
       "max     95.000000   94.684883"
      ]
     },
     "execution_count": 4,
     "metadata": {},
     "output_type": "execute_result"
    }
   ],
   "source": [
    "df.describe()"
   ]
  },
  {
   "cell_type": "code",
   "execution_count": 5,
   "id": "b257efce-c40a-412c-879f-ed890a854fd6",
   "metadata": {},
   "outputs": [
    {
     "name": "stdout",
     "output_type": "stream",
     "text": [
      "<class 'pandas.core.frame.DataFrame'>\n",
      "RangeIndex: 100 entries, 0 to 99\n",
      "Data columns (total 2 columns):\n",
      " #   Column  Non-Null Count  Dtype  \n",
      "---  ------  --------------  -----  \n",
      " 0   x       100 non-null    float64\n",
      " 1   y       100 non-null    float64\n",
      "dtypes: float64(2)\n",
      "memory usage: 1.7 KB\n"
     ]
    }
   ],
   "source": [
    "df.info()"
   ]
  },
  {
   "cell_type": "markdown",
   "id": "c6ee7bdf-c55b-435a-a394-8e755e0e7cf5",
   "metadata": {},
   "source": [
    "# Using a regression model"
   ]
  },
  {
   "cell_type": "code",
   "execution_count": 6,
   "id": "cd26e4db-e86f-454f-9155-421f0c048fea",
   "metadata": {},
   "outputs": [
    {
     "data": {
      "text/plain": [
       "array([24., 50., 15., 38., 87., 36., 12., 81., 25.,  5., 16., 16., 24.,\n",
       "       39., 54., 60., 26., 73., 29., 31., 68., 87., 58., 54., 84., 58.,\n",
       "       49., 20., 90., 48.,  4., 25., 42.,  0., 60., 93., 39.,  7., 21.,\n",
       "       68., 84.,  0., 58., 19., 36., 19., 59., 51., 19., 33., 85., 44.,\n",
       "        5., 59., 14.,  9., 75., 69., 10., 17., 58., 74., 21., 51., 19.,\n",
       "       50., 24.,  0., 12., 75., 21., 64.,  5., 58., 32., 41.,  7.,  4.,\n",
       "        5., 49., 90.,  3., 11., 32., 83., 25., 83., 26., 76., 95., 53.,\n",
       "       77., 42., 25., 54., 55.,  0., 73., 35., 86.])"
      ]
     },
     "execution_count": 6,
     "metadata": {},
     "output_type": "execute_result"
    }
   ],
   "source": [
    "x=df['x'].values\n",
    "x"
   ]
  },
  {
   "cell_type": "code",
   "execution_count": 7,
   "id": "4c50411e-1874-4447-997b-a8b089753a3f",
   "metadata": {},
   "outputs": [
    {
     "data": {
      "text/plain": [
       "array([[24.],\n",
       "       [50.],\n",
       "       [15.],\n",
       "       [38.],\n",
       "       [87.],\n",
       "       [36.],\n",
       "       [12.],\n",
       "       [81.],\n",
       "       [25.],\n",
       "       [ 5.],\n",
       "       [16.],\n",
       "       [16.],\n",
       "       [24.],\n",
       "       [39.],\n",
       "       [54.],\n",
       "       [60.],\n",
       "       [26.],\n",
       "       [73.],\n",
       "       [29.],\n",
       "       [31.],\n",
       "       [68.],\n",
       "       [87.],\n",
       "       [58.],\n",
       "       [54.],\n",
       "       [84.],\n",
       "       [58.],\n",
       "       [49.],\n",
       "       [20.],\n",
       "       [90.],\n",
       "       [48.],\n",
       "       [ 4.],\n",
       "       [25.],\n",
       "       [42.],\n",
       "       [ 0.],\n",
       "       [60.],\n",
       "       [93.],\n",
       "       [39.],\n",
       "       [ 7.],\n",
       "       [21.],\n",
       "       [68.],\n",
       "       [84.],\n",
       "       [ 0.],\n",
       "       [58.],\n",
       "       [19.],\n",
       "       [36.],\n",
       "       [19.],\n",
       "       [59.],\n",
       "       [51.],\n",
       "       [19.],\n",
       "       [33.],\n",
       "       [85.],\n",
       "       [44.],\n",
       "       [ 5.],\n",
       "       [59.],\n",
       "       [14.],\n",
       "       [ 9.],\n",
       "       [75.],\n",
       "       [69.],\n",
       "       [10.],\n",
       "       [17.],\n",
       "       [58.],\n",
       "       [74.],\n",
       "       [21.],\n",
       "       [51.],\n",
       "       [19.],\n",
       "       [50.],\n",
       "       [24.],\n",
       "       [ 0.],\n",
       "       [12.],\n",
       "       [75.],\n",
       "       [21.],\n",
       "       [64.],\n",
       "       [ 5.],\n",
       "       [58.],\n",
       "       [32.],\n",
       "       [41.],\n",
       "       [ 7.],\n",
       "       [ 4.],\n",
       "       [ 5.],\n",
       "       [49.],\n",
       "       [90.],\n",
       "       [ 3.],\n",
       "       [11.],\n",
       "       [32.],\n",
       "       [83.],\n",
       "       [25.],\n",
       "       [83.],\n",
       "       [26.],\n",
       "       [76.],\n",
       "       [95.],\n",
       "       [53.],\n",
       "       [77.],\n",
       "       [42.],\n",
       "       [25.],\n",
       "       [54.],\n",
       "       [55.],\n",
       "       [ 0.],\n",
       "       [73.],\n",
       "       [35.],\n",
       "       [86.]])"
      ]
     },
     "execution_count": 7,
     "metadata": {},
     "output_type": "execute_result"
    }
   ],
   "source": [
    "x=x.reshape(-1,1)\n",
    "x"
   ]
  },
  {
   "cell_type": "code",
   "execution_count": 8,
   "id": "576765d3-57dc-4f45-bbfb-08f40bb4b722",
   "metadata": {},
   "outputs": [
    {
     "data": {
      "text/plain": [
       "array([21.54945196, 47.46446305, 17.21865634, 36.58639803, 87.28898389,\n",
       "       32.46387493, 10.78089683, 80.7633986 , 24.61215147,  6.96331907,\n",
       "       11.23757338, 13.53290206, 24.60323899, 39.40049976, 48.43753838,\n",
       "       61.69900319, 26.92832418, 70.4052055 , 29.34092408, 25.30895192,\n",
       "       69.02934339, 84.99484703, 57.04310305, 50.5921991 , 83.02772202,\n",
       "       57.05752706, 47.95883341, 24.34226432, 94.68488281, 48.03970696,\n",
       "        7.08132338, 21.99239907, 42.33151664,  0.32908944, 61.92303698,\n",
       "       91.17716423, 39.45358014,  5.99606961, 22.59015942, 61.18044414,\n",
       "       85.02778957, -1.28631089, 61.94273962, 21.96033347, 33.66194193,\n",
       "       17.60946242, 58.5630564 , 52.82390762, 22.1363481 , 35.07467353,\n",
       "       86.18822311, 42.63227697,  4.09817744, 61.2229864 , 17.70677576,\n",
       "       11.85312574, 80.23051695, 62.64931741,  9.6168598 , 20.02797699,\n",
       "       61.7510743 , 71.61010303, 23.77154623, 51.90142035, 22.66073682,\n",
       "       50.02897927, 26.68794368,  0.3769119 ,  6.806419  , 77.33986001,\n",
       "       28.90260209, 66.7346608 ,  0.70751064, 57.07748383, 28.41453196,\n",
       "       44.46272123,  7.459606  ,  2.31670811,  4.92854619, 52.50336074,\n",
       "       91.19109623,  8.48916433,  6.96337197, 31.97989959, 81.4281205 ,\n",
       "       22.62365422, 78.52505087, 25.80714057, 73.51081775, 91.775467  ,\n",
       "       49.21863516, 80.50445387, 50.05636123, 25.46292549, 55.32164264,\n",
       "       59.1244888 ,  1.10068669, 71.98020786, 30.13666408, 83.88427405])"
      ]
     },
     "execution_count": 8,
     "metadata": {},
     "output_type": "execute_result"
    }
   ],
   "source": [
    "y=df['y'].values\n",
    "y"
   ]
  },
  {
   "cell_type": "code",
   "execution_count": 9,
   "id": "d57575bc-b71f-4336-9b5a-9cafe1cf6dec",
   "metadata": {},
   "outputs": [],
   "source": [
    "x_train, x_test, y_train, y_test= train_test_split(x, y, test_size=0.25, random_state =4)"
   ]
  },
  {
   "cell_type": "code",
   "execution_count": 10,
   "id": "16e859c3-b565-4bf4-8e06-14420288a7ec",
   "metadata": {},
   "outputs": [
    {
     "data": {
      "text/plain": [
       "(75, 1)"
      ]
     },
     "execution_count": 10,
     "metadata": {},
     "output_type": "execute_result"
    }
   ],
   "source": [
    "x_train.shape"
   ]
  },
  {
   "cell_type": "code",
   "execution_count": 11,
   "id": "3c63fd3b-6539-4787-96a2-b26cf32ceaf9",
   "metadata": {},
   "outputs": [
    {
     "data": {
      "image/png": "[encoded data removed]",
      "text/plain": [
       "<Figure size 432x288 with 1 Axes>"
      ]
     },
     "metadata": {
      "needs_background": "light"
     },
     "output_type": "display_data"
    }
   ],
   "source": [
    "plt.scatter(x_train, y_train)\n",
    "plt.xlabel('x')\n",
    "plt.ylabel('y')\n",
    "plt.title('Regression')\n",
    "plt.show()"
   ]
  },
  {
   "cell_type": "code",
   "execution_count": 12,
   "id": "39c4a6bf-ec2b-41c4-a534-846d92e6b386",
   "metadata": {},
   "outputs": [],
   "source": [
    "model= LinearRegression()\n",
    "model.fit(x_train,y_train)\n",
    "y_predict=model.predict(x_test)"
   ]
  },
  {
   "cell_type": "code",
   "execution_count": 13,
   "id": "583e1067-c020-49b4-a480-104462fba826",
   "metadata": {},
   "outputs": [
    {
     "data": {
      "text/plain": [
       "[<matplotlib.lines.Line2D at 0x7f20ecae2fa0>]"
      ]
     },
     "execution_count": 13,
     "metadata": {},
     "output_type": "execute_result"
    },
    {
     "data": {
      "image/png": "[encoded data removed]",
      "text/plain": [
       "<Figure size 432x288 with 1 Axes>"
      ]
     },
     "metadata": {
      "needs_background": "light"
     },
     "output_type": "display_data"
    }
   ],
   "source": [
    "plt.scatter(x_train,y_train, color='blue')\n",
    "plt.scatter(x_test,y_test, color= 'red')\n",
    "plt.plot(x_test,y_predict,color='yellow')"
   ]
  },
  {
   "cell_type": "code",
   "execution_count": 14,
   "id": "bf60d53a-5da2-4a38-8b99-d5316988fbdd",
   "metadata": {},
   "outputs": [
    {
     "data": {
      "text/plain": [
       "0.9927615991207484"
      ]
     },
     "execution_count": 14,
     "metadata": {},
     "output_type": "execute_result"
    }
   ],
   "source": [
    "accu=model.score(x_test,y_test)\n",
    "accu"
   ]
  },
  {
   "cell_type": "markdown",
   "id": "7fb723fd-5dce-4a20-ba4f-344e58c6805c",
   "metadata": {},
   "source": [
    "# LinearRegression1"
   ]
  },
  {
   "cell_type": "code",
   "execution_count": 15,
   "id": "9a7aee8d-d835-4093-87dc-a3419ba83a48",
   "metadata": {},
   "outputs": [],
   "source": [
    "df1=pd.read_csv('./assets/50_Startups.csv').head(50)"
   ]
  },
  {
   "cell_type": "code",
   "execution_count": 17,
   "id": "b00f00e1-bb2a-4a38-aa49-32a5f1e060d4",
   "metadata": {},
   "outputs": [
    {
     "data": {
      "image/png": "[encoded data removed]",
      "text/plain": [
       "<Figure size 432x288 with 1 Axes>"
      ]
     },
     "metadata": {
      "needs_background": "light"
     },
     "output_type": "display_data"
    }
   ],
   "source": [
    "x=df1['R&D Spend'].values\n",
    "x=x.reshape(-1,1)\n",
    "y=df1['Administration'].values\n",
    "x_train, x_test, y_train, y_test= train_test_split(x, y, test_size=0.25, random_state =4)\n",
    "plt.scatter(x_train, y_train)\n",
    "plt.xlabel('R&D Spend')\n",
    "plt.ylabel('Administration')\n",
    "plt.title('Regression')\n",
    "plt.show()"
   ]
  },
  {
   "cell_type": "code",
   "execution_count": 20,
   "id": "d9ad8f10-bbe8-4c2e-8eac-8a4af95567c7",
   "metadata": {},
   "outputs": [],
   "source": [
    "model= LinearRegression()\n",
    "model.fit(x_train,y_train)\n",
    "y_predict=model.predict(x_test)"
   ]
  },
  {
   "cell_type": "code",
   "execution_count": 22,
   "id": "d0398242-256b-419e-8817-aa12494224eb",
   "metadata": {},
   "outputs": [
    {
     "data": {
      "text/plain": [
       "[<matplotlib.lines.Line2D at 0x7f20ec73e460>]"
      ]
     },
     "execution_count": 22,
     "metadata": {},
     "output_type": "execute_result"
    },
    {
     "data": {
      "image/png": "[encoded data removed]",
      "text/plain": [
       "<Figure size 432x288 with 1 Axes>"
      ]
     },
     "metadata": {
      "needs_background": "light"
     },
     "output_type": "display_data"
    }
   ],
   "source": [
    "plt.scatter(x_train,y_train, color='blue')\n",
    "plt.scatter(x_test,y_test, color= 'red')\n",
    "plt.plot(x_test,y_predict,color='yellow')"
   ]
  },
  {
   "cell_type": "code",
   "execution_count": 32,
   "id": "4394aa34-7be9-4a93-b45d-e0e005f419bb",
   "metadata": {},
   "outputs": [
    {
     "data": {
      "text/plain": [
       "0.9623385061014038"
      ]
     },
     "execution_count": 32,
     "metadata": {},
     "output_type": "execute_result"
    }
   ],
   "source": [
    "accu=model.score(x_test,y_test)\n",
    "accu"
   ]
  },
  {
   "cell_type": "markdown",
   "id": "219bc820-9524-4d0f-87e4-411a4242e0d2",
   "metadata": {},
   "source": [
    "# LinearRegression2"
   ]
  },
  {
   "cell_type": "code",
   "execution_count": 23,
   "id": "649eb3bb-c0e6-4446-9af1-194015613f34",
   "metadata": {},
   "outputs": [
    {
     "data": {
      "image/png": "[encoded data removed]",
      "text/plain": [
       "<Figure size 432x288 with 1 Axes>"
      ]
     },
     "metadata": {
      "needs_background": "light"
     },
     "output_type": "display_data"
    }
   ],
   "source": [
    "x=df1['Marketing Spend'].values\n",
    "x=x.reshape(-1,1)\n",
    "y=df1['Profit'].values\n",
    "x_train, x_test, y_train, y_test= train_test_split(x, y, test_size=0.25, random_state =4)\n",
    "plt.scatter(x_train, y_train)\n",
    "plt.xlabel('Marketing Spend')\n",
    "plt.ylabel('Profit')\n",
    "plt.title('Regression')\n",
    "plt.show()"
   ]
  },
  {
   "cell_type": "code",
   "execution_count": 24,
   "id": "2f7fe544-2674-48b6-8013-861d8871c0c9",
   "metadata": {},
   "outputs": [],
   "source": [
    "model= LinearRegression()\n",
    "model.fit(x_train,y_train)\n",
    "y_predict=model.predict(x_test)"
   ]
  },
  {
   "cell_type": "code",
   "execution_count": 25,
   "id": "8d04ada4-be94-438b-bd2b-a513face7a02",
   "metadata": {},
   "outputs": [
    {
     "data": {
      "text/plain": [
       "[<matplotlib.lines.Line2D at 0x7f20ec619580>]"
      ]
     },
     "execution_count": 25,
     "metadata": {},
     "output_type": "execute_result"
    },
    {
     "data": {
      "image/png": "[encoded data removed]",
      "text/plain": [
       "<Figure size 432x288 with 1 Axes>"
      ]
     },
     "metadata": {
      "needs_background": "light"
     },
     "output_type": "display_data"
    }
   ],
   "source": [
    "plt.scatter(x_train,y_train, color='blue')\n",
    "plt.scatter(x_test,y_test, color= 'red')\n",
    "plt.plot(x_test,y_predict,color='yellow')"
   ]
  },
  {
   "cell_type": "code",
   "execution_count": 34,
   "id": "31c2a557-e915-42c6-ad62-7adda1906e9f",
   "metadata": {},
   "outputs": [
    {
     "data": {
      "text/plain": [
       "0.9623385061014038"
      ]
     },
     "execution_count": 34,
     "metadata": {},
     "output_type": "execute_result"
    }
   ],
   "source": [
    "accu=model.score(x_test,y_test)\n",
    "accu"
   ]
  },
  {
   "cell_type": "markdown",
   "id": "558f525e-209b-4b34-8671-61781b25a85f",
   "metadata": {},
   "source": [
    "# LinearRegression3"
   ]
  },
  {
   "cell_type": "code",
   "execution_count": 26,
   "id": "739c69f5-c71b-4d0d-83f4-114fa466fffa",
   "metadata": {},
   "outputs": [
    {
     "data": {
      "image/png": "[encoded data removed]",
      "text/plain": [
       "<Figure size 432x288 with 1 Axes>"
      ]
     },
     "metadata": {
      "needs_background": "light"
     },
     "output_type": "display_data"
    }
   ],
   "source": [
    "x=df1['R&D Spend'].values\n",
    "x=x.reshape(-1,1)\n",
    "y=df1['Profit'].values\n",
    "x_train, x_test, y_train, y_test= train_test_split(x, y, test_size=0.25, random_state =4)\n",
    "plt.scatter(x_train, y_train)\n",
    "plt.xlabel('R&D Spend')\n",
    "plt.ylabel('Profit')\n",
    "plt.title('Regression')\n",
    "plt.show()"
   ]
  },
  {
   "cell_type": "code",
   "execution_count": 27,
   "id": "330806f9-9b02-4f14-8758-48ebd2611117",
   "metadata": {},
   "outputs": [],
   "source": [
    "model= LinearRegression()\n",
    "model.fit(x_train,y_train)\n",
    "y_predict=model.predict(x_test)"
   ]
  },
  {
   "cell_type": "code",
   "execution_count": 28,
   "id": "fbee1053-6a62-487b-b8c8-5b5d204ad78b",
   "metadata": {},
   "outputs": [
    {
     "data": {
      "text/plain": [
       "[<matplotlib.lines.Line2D at 0x7f21481d55b0>]"
      ]
     },
     "execution_count": 28,
     "metadata": {},
     "output_type": "execute_result"
    },
    {
     "data": {
      "image/png": "[encoded data removed]",
      "text/plain": [
       "<Figure size 432x288 with 1 Axes>"
      ]
     },
     "metadata": {
      "needs_background": "light"
     },
     "output_type": "display_data"
    }
   ],
   "source": [
    "plt.scatter(x_train,y_train, color='blue')\n",
    "plt.scatter(x_test,y_test, color= 'red')\n",
    "plt.plot(x_test,y_predict,color='yellow')"
   ]
  },
  {
   "cell_type": "code",
   "execution_count": 35,
   "id": "c31f1a09-0288-453f-8926-e61a8328c40d",
   "metadata": {},
   "outputs": [
    {
     "data": {
      "text/plain": [
       "0.9623385061014038"
      ]
     },
     "execution_count": 35,
     "metadata": {},
     "output_type": "execute_result"
    }
   ],
   "source": [
    "accu=model.score(x_test,y_test)\n",
    "accu"
   ]
  },
  {
   "cell_type": "code",
   "execution_count": null,
   "id": "75d6d6be-bc61-47b5-9e01-9d2fe6a1d6bb",
   "metadata": {},
   "outputs": [],
   "source": []
  }
 ],
 "metadata": {
  "kernelspec": {
   "display_name": "Python 3",
   "language": "python",
   "name": "python3"
  },
  "language_info": {
   "codemirror_mode": {
    "name": "ipython",
    "version": 3
   },
   "file_extension": ".py",
   "mimetype": "text/x-python",
   "name": "python",
   "nbconvert_exporter": "python",
   "pygments_lexer": "ipython3",
   "version": "3.9.4"
  }
 },
 "nbformat": 4,
 "nbformat_minor": 5
}
